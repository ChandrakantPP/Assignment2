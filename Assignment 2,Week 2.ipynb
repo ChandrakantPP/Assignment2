{
 "cells": [
  {
   "cell_type": "markdown",
   "id": "63a94b04-52ff-4b25-bc8d-66876e375554",
   "metadata": {},
   "source": [
    "Q.1 How do you comment code in Python? What are the different types of comments?"
   ]
  },
  {
   "cell_type": "code",
   "execution_count": 3,
   "id": "4ae3b334-4e42-4e9f-8a82-c21c1aeb9875",
   "metadata": {},
   "outputs": [],
   "source": [
    "#print(\"Hello World\") so in this type we can comment code in python"
   ]
  },
  {
   "cell_type": "markdown",
   "id": "37921a39-dd29-4a10-8e87-56042135e8f1",
   "metadata": {},
   "source": [
    "## There are two types of comments in python\n",
    "1) Single line comment (#)\n",
    "2) Multiline comment (\"\"\")"
   ]
  },
  {
   "cell_type": "markdown",
   "id": "290fbed6-0991-48e5-aece-e8081ed115d2",
   "metadata": {},
   "source": [
    "Q2. What are variables in Python? How do you declare and assign values to variables?"
   ]
  },
  {
   "cell_type": "markdown",
   "id": "dbbc037f-b5e6-48b5-ae51-21f0ee148cd1",
   "metadata": {},
   "source": [
    "variables are containers for storing data values.\n",
    "## declare and assign value to variable\n",
    "Just name the variable,\n",
    "Assign the required value to it,\n",
    "The data type of the variable will be automatically determined from the value assigned"
   ]
  },
  {
   "cell_type": "code",
   "execution_count": 4,
   "id": "5b0f0bee-d4a4-40e6-b35b-2e4c022c9bc4",
   "metadata": {},
   "outputs": [],
   "source": [
    "x=30 ##assign variable"
   ]
  },
  {
   "cell_type": "markdown",
   "id": "db59a9fb-abcf-470a-8d98-9f0bdbe979fd",
   "metadata": {},
   "source": [
    "Q3. How do you convert one data type to another in Python?"
   ]
  },
  {
   "cell_type": "code",
   "execution_count": 5,
   "id": "9ad36b17-6f11-4e2e-8b9d-284ca77b1316",
   "metadata": {},
   "outputs": [],
   "source": [
    "x=8"
   ]
  },
  {
   "cell_type": "code",
   "execution_count": 6,
   "id": "11eb8c8d-4ad8-4d2f-9179-db484aaf323a",
   "metadata": {},
   "outputs": [
    {
     "data": {
      "text/plain": [
       "8.0"
      ]
     },
     "execution_count": 6,
     "metadata": {},
     "output_type": "execute_result"
    }
   ],
   "source": [
    "float(x) ##type casting"
   ]
  },
  {
   "cell_type": "markdown",
   "id": "4fd39c22-22cc-4573-90ff-c42745d05f4c",
   "metadata": {},
   "source": [
    "Q4. How do you write and execute a Python script from the command line?"
   ]
  },
  {
   "cell_type": "markdown",
   "id": "9c60f44d-c697-4709-9c19-69da7677c01e",
   "metadata": {},
   "source": [
    "You need to open a command line and type the word python followed by the path to your script file like this: python first_script.py Hello World! Then you hit the ENTER button from the keyboard"
   ]
  },
  {
   "cell_type": "markdown",
   "id": "79877b33-059d-417b-8b07-618df7e2fc11",
   "metadata": {},
   "source": [
    "Q5. Given a list my_list = [1, 2, 3, 4, 5], write the code to slice the list and obtain the sub-list [2, 3]."
   ]
  },
  {
   "cell_type": "code",
   "execution_count": 7,
   "id": "06570cf9-2623-4e20-884b-017f5f0982d5",
   "metadata": {},
   "outputs": [
    {
     "data": {
      "text/plain": [
       "[2, 3]"
      ]
     },
     "execution_count": 7,
     "metadata": {},
     "output_type": "execute_result"
    }
   ],
   "source": [
    "my_list=[1,2,3,4,5]\n",
    "sub_list=my_list[1:3]\n",
    "sub_list"
   ]
  },
  {
   "cell_type": "markdown",
   "id": "3d1624e5-8c38-4e01-bb46-7bb4b2b6d9d9",
   "metadata": {},
   "source": [
    "Q6. What is a complex number in mathematics, and how is it represented in Python?"
   ]
  },
  {
   "cell_type": "markdown",
   "id": "2a2356b0-9bc6-4538-ab67-4f69060e621a",
   "metadata": {},
   "source": [
    "Complex numbers are the numbers that are expressed in the form of a+ib where, a,b are real numbers and 'i' is an imaginary number called"
   ]
  },
  {
   "cell_type": "code",
   "execution_count": 8,
   "id": "d944b92a-fc6c-43eb-a07b-1b1e1ea637cb",
   "metadata": {},
   "outputs": [],
   "source": [
    "complex_number=7+4j"
   ]
  },
  {
   "cell_type": "markdown",
   "id": "73e9c2b1-e1f0-4e05-a071-9e85a88daa87",
   "metadata": {},
   "source": [
    "Q7. What is the correct way to declare a variable named age and assign the value 25 to it?"
   ]
  },
  {
   "cell_type": "code",
   "execution_count": 9,
   "id": "de444ef1-9720-4bc9-9347-108be319d5f7",
   "metadata": {},
   "outputs": [],
   "source": [
    "age=25"
   ]
  },
  {
   "cell_type": "markdown",
   "id": "ad080b4f-adf7-4ceb-bde9-d10713411781",
   "metadata": {},
   "source": [
    "Q8. Declare a variable named price and assign the value 9.99 to it. What data type does this variable belong to?"
   ]
  },
  {
   "cell_type": "code",
   "execution_count": 10,
   "id": "ab1e3d00-dbaf-4fdf-931d-f7e623ed95a1",
   "metadata": {},
   "outputs": [],
   "source": [
    "price=9.99"
   ]
  },
  {
   "cell_type": "code",
   "execution_count": 11,
   "id": "1a5ce1d1-b23f-4e93-8588-9bec8fd5399f",
   "metadata": {},
   "outputs": [
    {
     "data": {
      "text/plain": [
       "float"
      ]
     },
     "execution_count": 11,
     "metadata": {},
     "output_type": "execute_result"
    }
   ],
   "source": [
    "type(price)"
   ]
  },
  {
   "cell_type": "markdown",
   "id": "806f7303-a498-4c1b-a9f4-b191e624df1a",
   "metadata": {},
   "source": [
    "Q9. Create a variable named name and assign your full name to it as a string. How would you print the value of this variable?"
   ]
  },
  {
   "cell_type": "code",
   "execution_count": 12,
   "id": "5ef2ae89-82f3-4957-aa7b-dfb30482ba60",
   "metadata": {},
   "outputs": [
    {
     "name": "stdout",
     "output_type": "stream",
     "text": [
      "Chandrakant Purohit\n"
     ]
    }
   ],
   "source": [
    "name=\"Chandrakant Purohit\"\n",
    "print(name)"
   ]
  },
  {
   "cell_type": "markdown",
   "id": "ac16a6d0-7675-44b7-b6f1-038ebaf00c16",
   "metadata": {},
   "source": [
    "Q10. Given the string \"Hello, World!\", extract the substring \"World\"."
   ]
  },
  {
   "cell_type": "code",
   "execution_count": 14,
   "id": "1eece2d9-7ee0-4c3e-8487-8c54f1bbe893",
   "metadata": {},
   "outputs": [
    {
     "data": {
      "text/plain": [
       "'World'"
      ]
     },
     "execution_count": 14,
     "metadata": {},
     "output_type": "execute_result"
    }
   ],
   "source": [
    "string=\"Hello, World!\"\n",
    "substring=string[7:12]\n",
    "substring"
   ]
  },
  {
   "cell_type": "markdown",
   "id": "1b1edcd7-0c37-413f-ab76-0a0a7110f380",
   "metadata": {},
   "source": [
    "Q11. Create a variable named \"is_student\" and assign it a boolean value indicating whether you are currently a student or not."
   ]
  },
  {
   "cell_type": "code",
   "execution_count": 15,
   "id": "b11e5fc6-f0f0-45c0-9e43-9360dcadeda0",
   "metadata": {},
   "outputs": [
    {
     "name": "stdout",
     "output_type": "stream",
     "text": [
      "False\n"
     ]
    }
   ],
   "source": [
    "is_student=False\n",
    "print(is_student)"
   ]
  }
 ],
 "metadata": {
  "kernelspec": {
   "display_name": "Python 3 (ipykernel)",
   "language": "python",
   "name": "python3"
  },
  "language_info": {
   "codemirror_mode": {
    "name": "ipython",
    "version": 3
   },
   "file_extension": ".py",
   "mimetype": "text/x-python",
   "name": "python",
   "nbconvert_exporter": "python",
   "pygments_lexer": "ipython3",
   "version": "3.10.8"
  }
 },
 "nbformat": 4,
 "nbformat_minor": 5
}
